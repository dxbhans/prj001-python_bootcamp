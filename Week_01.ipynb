{
 "cells": [
  {
   "cell_type": "markdown",
   "metadata": {
    "collapsed": true
   },
   "source": [
    "# Week 01"
   ]
  },
  {
   "cell_type": "code",
   "execution_count": 2,
   "metadata": {},
   "outputs": [
    {
     "name": "stdout",
     "output_type": "stream",
     "text": [
      "Hello, buddy! Do you like what you see here?\n"
     ]
    }
   ],
   "source": [
    "# this is python\n",
    "\n",
    "print('Hello, buddy! Do you like what you see here?')"
   ]
  },
  {
   "cell_type": "code",
   "execution_count": 2,
   "metadata": {},
   "outputs": [
    {
     "ename": "ValueError",
     "evalue": "invalid literal for int() with base 10: ''",
     "output_type": "error",
     "traceback": [
      "\u001b[0;31m---------------------------------------------------------------------------\u001b[0m",
      "\u001b[0;31mValueError\u001b[0m                                Traceback (most recent call last)",
      "Cell \u001b[0;32mIn[2], line 18\u001b[0m\n\u001b[1;32m     14\u001b[0m guesses \u001b[39m+\u001b[39m\u001b[39m=\u001b[39m \u001b[39m1\u001b[39m\n\u001b[1;32m     16\u001b[0m clear_output()\n\u001b[0;32m---> 18\u001b[0m \u001b[39mif\u001b[39;00m \u001b[39mint\u001b[39;49m(ans) \u001b[39m==\u001b[39m number:\n\u001b[1;32m     19\u001b[0m     \u001b[39mprint\u001b[39m(\u001b[39m'\u001b[39m\u001b[39mCongrats! You guessed it correctly.\u001b[39m\u001b[39m'\u001b[39m)\n\u001b[1;32m     20\u001b[0m     \u001b[39mprint\u001b[39m(\u001b[39m'\u001b[39m\u001b[39mIt took you \u001b[39m\u001b[39m{}\u001b[39;00m\u001b[39m guesses!\u001b[39m\u001b[39m'\u001b[39m\u001b[39m.\u001b[39mformat(guesses))\n",
      "\u001b[0;31mValueError\u001b[0m: invalid literal for int() with base 10: ''"
     ]
    }
   ],
   "source": [
    "# guessing game\n",
    "from random import randint\n",
    "from IPython.display import clear_output\n",
    "\n",
    "guessed = False\n",
    "number = randint(0, 100)\n",
    "guesses = 0\n",
    "\n",
    "print(number)\n",
    "\n",
    "while not guessed:    \n",
    "    ans = input('Try to guess the number I am thinking of! ')\n",
    "    \n",
    "    guesses += 1\n",
    "    \n",
    "    clear_output()\n",
    "    \n",
    "    if int(ans) == number:\n",
    "        print('Congrats! You guessed it correctly.')\n",
    "        print('It took you {} guesses!'.format(guesses))\n",
    "        break\n",
    "    elif int(ans) > number:\n",
    "        print('The number is lower than what you guessed.')\n",
    "    elif int(ans) < number:\n",
    "        print('The number is greater than what you guessed.')"
   ]
  },
  {
   "cell_type": "code",
   "execution_count": 5,
   "metadata": {},
   "outputs": [
    {
     "name": "stdout",
     "output_type": "stream",
     "text": [
      "New Answers!\n",
      "More New Answers\n"
     ]
    }
   ],
   "source": [
    "# End of Week Exercises - Answers\n",
    "\n",
    "print(\"New Answers!\")\n",
    "\n",
    "print(\"More New Answers\")"
   ]
  },
  {
   "cell_type": "markdown",
   "metadata": {},
   "source": [
    "<p>\n",
    "2. <b>Writing Markdown:</b> Within the file from exercise 1, create a cell with markdown in it that says \"Challenge 1\". Try several different header sizes. Pick the one you like best.\n",
    "</p>"
   ]
  },
  {
   "cell_type": "markdown",
   "metadata": {},
   "source": [
    "# Challenge 1"
   ]
  },
  {
   "cell_type": "code",
   "execution_count": null,
   "metadata": {},
   "outputs": [],
   "source": []
  }
 ],
 "metadata": {
  "kernelspec": {
   "display_name": "Python 3 (ipykernel)",
   "language": "python",
   "name": "python3"
  },
  "language_info": {
   "codemirror_mode": {
    "name": "ipython",
    "version": 3
   },
   "file_extension": ".py",
   "mimetype": "text/x-python",
   "name": "python",
   "nbconvert_exporter": "python",
   "pygments_lexer": "ipython3",
   "version": "3.10.6"
  },
  "vscode": {
   "interpreter": {
    "hash": "916dbcbb3f70747c44a77c7bcd40155683ae19c65e1c03b4aa3499c5328201f1"
   }
  }
 },
 "nbformat": 4,
 "nbformat_minor": 2
}
